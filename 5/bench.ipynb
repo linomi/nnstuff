{
 "cells": [
  {
   "cell_type": "code",
   "execution_count": 1,
   "metadata": {},
   "outputs": [],
   "source": [
    "from re import L\n",
    "import tensorflow as tf \n",
    "from tensorflow.keras.layers import Conv2D,UpSampling2D,MaxPooling2D,Input\n",
    "from tensorflow.keras.models import Model \n",
    "import numpy as np \n",
    "from matplotlib import pyplot as plt \n",
    "from os import listdir\n",
    "from PIL import Image,ImageOps\n",
    "import random"
   ]
  },
  {
   "cell_type": "code",
   "execution_count": 21,
   "metadata": {},
   "outputs": [],
   "source": [
    "#dataset loading and pre processing data \n",
    "def data_loader(dataset_path):\n",
    "    dataset_color = []\n",
    "    #shuffling pictures\n",
    "    dir = listdir(dataset_path)\n",
    "    for fruit_type in dir:\n",
    "        file = listdir(dataset_path+'/'+fruit_type)\n",
    "        #random.shuffle(file)\n",
    "        for filename in file:\n",
    "            #print(dataset_path+'/'+fruit_type+'/'+filename)\n",
    "            fruit = Image.open(dataset_path+'/'+fruit_type+'/'+filename)\n",
    "            fruit_color  = np.asarray(fruit)\n",
    "            dataset_color.append(fruit_color)\n",
    "    #return the dataset \n",
    "    return np.array(dataset_color)\n",
    "\n",
    "\n"
   ]
  },
  {
   "cell_type": "code",
   "execution_count": 22,
   "metadata": {},
   "outputs": [],
   "source": [
    "data = data_loader('dataset')"
   ]
  },
  {
   "cell_type": "code",
   "execution_count": 42,
   "metadata": {},
   "outputs": [
    {
     "name": "stdout",
     "output_type": "stream",
     "text": [
      "Model: \"functional_15\"\n",
      "_________________________________________________________________\n",
      "Layer (type)                 Output Shape              Param #   \n",
      "=================================================================\n",
      "input_12 (InputLayer)        [(None, 100, 100, 3)]     0         \n",
      "_________________________________________________________________\n",
      "conv2d_40 (Conv2D)           (None, 100, 100, 50)      1400      \n",
      "_________________________________________________________________\n",
      "max_pooling2d_18 (MaxPooling (None, 25, 25, 50)        0         \n",
      "_________________________________________________________________\n",
      "conv2d_41 (Conv2D)           (None, 25, 25, 50)        22550     \n",
      "_________________________________________________________________\n",
      "max_pooling2d_19 (MaxPooling (None, 4, 4, 50)          0         \n",
      "_________________________________________________________________\n",
      "conv2d_42 (Conv2D)           (None, 2, 2, 1)           451       \n",
      "_________________________________________________________________\n",
      "conv2d_43 (Conv2D)           (None, 1, 1, 1)           5         \n",
      "_________________________________________________________________\n",
      "up_sampling2d_7 (UpSampling2 (None, 5, 5, 1)           0         \n",
      "_________________________________________________________________\n",
      "conv2d_44 (Conv2D)           (None, 5, 5, 50)          500       \n",
      "_________________________________________________________________\n",
      "up_sampling2d_8 (UpSampling2 (None, 25, 25, 50)        0         \n",
      "_________________________________________________________________\n",
      "conv2d_45 (Conv2D)           (None, 25, 25, 50)        22550     \n",
      "_________________________________________________________________\n",
      "up_sampling2d_9 (UpSampling2 (None, 100, 100, 50)      0         \n",
      "_________________________________________________________________\n",
      "conv2d_46 (Conv2D)           (None, 100, 100, 3)       1353      \n",
      "=================================================================\n",
      "Total params: 48,809\n",
      "Trainable params: 48,809\n",
      "Non-trainable params: 0\n",
      "_________________________________________________________________\n"
     ]
    }
   ],
   "source": [
    "input_layer = Input((100,100,3))\n",
    "layer = Conv2D(50,(3,3),activation = 'relu',padding ='same')(input_layer)\n",
    "layer = MaxPooling2D(pool_size = (4,4),strides =(4,4))(layer)\n",
    "layer = Conv2D(50,(3,3),activation = 'sigmoid',padding= 'same')(layer)\n",
    "layer = MaxPooling2D(pool_size = (4,4),strides =(6,6))(layer)\n",
    "layer = Conv2D(1,(3,3),activation = 'sigmoid')(layer)\n",
    "layer = Conv2D(1,(2,2),activation = 'sigmoid')(layer)\n",
    "layer = UpSampling2D((5,5))(layer)\n",
    "layer = Conv2D(50,(3,3),activation = 'sigmoid',padding = 'same')(layer)\n",
    "layer = UpSampling2D((5,5))(layer)\n",
    "layer = Conv2D(50,(3,3),activation = 'sigmoid',padding = 'same')(layer)\n",
    "layer = UpSampling2D((4,4))(layer)\n",
    "layer = Conv2D(3,(3,3),activation = 'linear',padding = 'same')(layer)\n",
    "model = Model(input_layer,layer)\n",
    "model.summary()\n"
   ]
  },
  {
   "cell_type": "code",
   "execution_count": 43,
   "metadata": {},
   "outputs": [
    {
     "name": "stdout",
     "output_type": "stream",
     "text": [
      "Epoch 1/4\n",
      "33/33 [==============================] - 31s 946ms/step - loss: 24186.9082\n",
      "Epoch 2/4\n",
      "33/33 [==============================] - 32s 971ms/step - loss: 20730.3730\n",
      "Epoch 3/4\n",
      "33/33 [==============================] - 33s 1s/step - loss: 17992.2754\n",
      "Epoch 4/4\n",
      "33/33 [==============================] - 33s 987ms/step - loss: 15770.5527\n"
     ]
    },
    {
     "data": {
      "text/plain": [
       "<tensorflow.python.keras.callbacks.History at 0x1e43ece5b20>"
      ]
     },
     "execution_count": 43,
     "metadata": {},
     "output_type": "execute_result"
    }
   ],
   "source": [
    "model.compile(optimizer = 'rmsprop',loss = 'mse')\n",
    "model.fit(data,data,batch_size = 50,epochs = 4)"
   ]
  },
  {
   "cell_type": "code",
   "execution_count": 44,
   "metadata": {},
   "outputs": [],
   "source": [
    "test = model.predict(data[0:3])"
   ]
  },
  {
   "cell_type": "code",
   "execution_count": 45,
   "metadata": {},
   "outputs": [],
   "source": [
    "image = Image.fromarray(np.array(test[0]).astype(np.uint8))\n",
    "image.show()"
   ]
  }
 ],
 "metadata": {
  "kernelspec": {
   "display_name": "Python 3.8.8 ('base')",
   "language": "python",
   "name": "python3"
  },
  "language_info": {
   "codemirror_mode": {
    "name": "ipython",
    "version": 3
   },
   "file_extension": ".py",
   "mimetype": "text/x-python",
   "name": "python",
   "nbconvert_exporter": "python",
   "pygments_lexer": "ipython3",
   "version": "3.8.8"
  },
  "orig_nbformat": 4,
  "vscode": {
   "interpreter": {
    "hash": "1eee512b60c914cf7b5b6b3db63db851b7d1def817c3bd4177fdc4164bde2896"
   }
  }
 },
 "nbformat": 4,
 "nbformat_minor": 2
}
